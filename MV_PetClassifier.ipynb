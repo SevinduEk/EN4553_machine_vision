{
  "cells": [
    {
      "cell_type": "code",
      "execution_count": null,
      "metadata": {
        "id": "jyQ9IHj1epCx"
      },
      "outputs": [],
      "source": [
        "import torch\n",
        "import torchvision.transforms as transforms\n",
        "from torchvision.datasets import OxfordIIITPet\n",
        "from torchvision.models import resnet50\n",
        "from torch.utils.data import DataLoader\n",
        "from sklearn.neighbors import KNeighborsClassifier\n",
        "from sklearn.model_selection import train_test_split\n",
        "from sklearn.metrics import accuracy_score\n",
        "import numpy as np\n",
        "from sklearn.neighbors import KNeighborsClassifier\n",
        "from sklearn.metrics import accuracy_score\n",
        "import time\n",
        "import copy\n",
        "import matplotlib.pyplot as plt"
      ]
    },
    {
      "cell_type": "markdown",
      "metadata": {
        "id": "IdvofSJFwZQL"
      },
      "source": [
        "Resize and Normalize"
      ]
    },
    {
      "cell_type": "code",
      "execution_count": null,
      "metadata": {
        "id": "5QtJgpibnFpU"
      },
      "outputs": [],
      "source": [
        "transform = transforms.Compose([\n",
        "    transforms.Resize((224, 224)),\n",
        "    transforms.ToTensor(),\n",
        "    transforms.Normalize(mean=[0.485, 0.456, 0.406], std=[0.229, 0.225, 0.225]),\n",
        "])"
      ]
    },
    {
      "cell_type": "code",
      "execution_count": null,
      "metadata": {
        "id": "11cQGN7vfoZE",
        "colab": {
          "base_uri": "https://localhost:8080/"
        },
        "outputId": "0eb0f91d-5a18-46fb-a624-7e4411cad834"
      },
      "outputs": [
        {
          "output_type": "stream",
          "name": "stdout",
          "text": [
            "Downloading https://thor.robots.ox.ac.uk/datasets/pets/images.tar.gz to oxford-iiit-pet/images.tar.gz\n"
          ]
        },
        {
          "output_type": "stream",
          "name": "stderr",
          "text": [
            "100%|██████████| 791918971/791918971 [00:37<00:00, 21021642.53it/s]\n"
          ]
        },
        {
          "output_type": "stream",
          "name": "stdout",
          "text": [
            "Extracting oxford-iiit-pet/images.tar.gz to oxford-iiit-pet\n",
            "Downloading https://thor.robots.ox.ac.uk/datasets/pets/annotations.tar.gz to oxford-iiit-pet/annotations.tar.gz\n"
          ]
        },
        {
          "output_type": "stream",
          "name": "stderr",
          "text": [
            "100%|██████████| 19173078/19173078 [00:02<00:00, 7779097.33it/s] \n"
          ]
        },
        {
          "output_type": "stream",
          "name": "stdout",
          "text": [
            "Extracting oxford-iiit-pet/annotations.tar.gz to oxford-iiit-pet\n"
          ]
        }
      ],
      "source": [
        "train_ds = OxfordIIITPet(root='.', split='trainval', transform=transform, download=True)\n",
        "test_ds = OxfordIIITPet(root='.', split='test', transform=transform, download=True)\n"
      ]
    },
    {
      "cell_type": "markdown",
      "metadata": {
        "id": "AeZXY5G9wjuj"
      },
      "source": [
        "ResNet-50 (1000 outputs) & ResNet-50 without the last layer (2048 outputs)"
      ]
    },
    {
      "cell_type": "code",
      "execution_count": null,
      "metadata": {
        "colab": {
          "base_uri": "https://localhost:8080/"
        },
        "id": "BzdOhu-igzI4",
        "outputId": "e2d8e4ab-3403-45d3-891c-77d1f438d885"
      },
      "outputs": [
        {
          "output_type": "stream",
          "name": "stderr",
          "text": [
            "/usr/local/lib/python3.10/dist-packages/torchvision/models/_utils.py:223: UserWarning: Arguments other than a weight enum or `None` for 'weights' are deprecated since 0.13 and may be removed in the future. The current behavior is equivalent to passing `weights=ResNet50_Weights.IMAGENET1K_V1`. You can also use `weights=ResNet50_Weights.DEFAULT` to get the most up-to-date weights.\n",
            "  warnings.warn(msg)\n",
            "Downloading: \"https://download.pytorch.org/models/resnet50-0676ba61.pth\" to /root/.cache/torch/hub/checkpoints/resnet50-0676ba61.pth\n",
            "100%|██████████| 97.8M/97.8M [00:01<00:00, 83.9MB/s]\n"
          ]
        }
      ],
      "source": [
        "resnet50_model = resnet50(weights=True)\n",
        "resnet50_feature_extract = torch.nn.Sequential(*(list(resnet50_model.children())[:-1]))"
      ]
    },
    {
      "cell_type": "code",
      "execution_count": null,
      "metadata": {
        "id": "MN1ZhDeIhuO0"
      },
      "outputs": [],
      "source": [
        "# Extract features using ResNet50\n",
        "def extract_features(model, dataloader):\n",
        "    features = []\n",
        "    labels = []\n",
        "\n",
        "    with torch.no_grad():       # No need to train, just evaluating\n",
        "        for image, target in dataloader:\n",
        "            image = image.cuda()\n",
        "            feature = model(image)\n",
        "            features.append(feature.squeeze().cpu().numpy())\n",
        "            labels.extend(target.numpy())\n",
        "\n",
        "    features = np.array(features)\n",
        "    return features, labels"
      ]
    },
    {
      "cell_type": "code",
      "execution_count": null,
      "metadata": {
        "id": "s3xEs92xkUks"
      },
      "outputs": [],
      "source": [
        "BATCH_SIZE = 64"
      ]
    },
    {
      "cell_type": "code",
      "execution_count": null,
      "metadata": {
        "id": "fr5RYHw6kOtd"
      },
      "outputs": [],
      "source": [
        "train_dataloader = DataLoader(train_ds, batch_size = BATCH_SIZE, shuffle=True)    # Shuffle train dataloader\n",
        "test_dataloader = DataLoader(test_ds, batch_size = BATCH_SIZE, shuffle=False)"
      ]
    },
    {
      "cell_type": "code",
      "execution_count": null,
      "metadata": {
        "colab": {
          "base_uri": "https://localhost:8080/"
        },
        "id": "BuioIs5JYWMU",
        "outputId": "010971a8-cc99-479f-877b-87a48cc49991"
      },
      "outputs": [
        {
          "output_type": "execute_result",
          "data": {
            "text/plain": [
              "True"
            ]
          },
          "metadata": {},
          "execution_count": 58
        }
      ],
      "source": [
        "# !nvidia-smi\n",
        "torch.cuda.is_available()"
      ]
    },
    {
      "cell_type": "markdown",
      "metadata": {
        "id": "RtVjFZHexMVa"
      },
      "source": [
        "Feature Extraction"
      ]
    },
    {
      "cell_type": "code",
      "execution_count": null,
      "metadata": {
        "id": "xYWQiG5VrNYv",
        "colab": {
          "base_uri": "https://localhost:8080/"
        },
        "outputId": "b007f1ed-17f6-4a7f-b021-d108ec454872"
      },
      "outputs": [
        {
          "output_type": "stream",
          "name": "stderr",
          "text": [
            "<ipython-input-55-32427f60788f>:13: VisibleDeprecationWarning: Creating an ndarray from ragged nested sequences (which is a list-or-tuple of lists-or-tuples-or ndarrays with different lengths or shapes) is deprecated. If you meant to do this, you must specify 'dtype=object' when creating the ndarray.\n",
            "  features = np.array(features)\n"
          ]
        }
      ],
      "source": [
        "model = resnet50_feature_extract\n",
        "\n",
        "model.eval()\n",
        "model = model.cuda()\n",
        "\n",
        "train_features, train_labels = extract_features(model, train_dataloader)\n",
        "test_features, test_labels = extract_features(model, test_dataloader)"
      ]
    },
    {
      "cell_type": "code",
      "execution_count": null,
      "metadata": {
        "id": "6sK6ntnYawbE"
      },
      "outputs": [],
      "source": [
        "# Remove batch dim\n",
        "train_features_flat = np.concatenate(train_features, axis=0)\n",
        "test_features_flat = np.concatenate(test_features, axis=0)"
      ]
    },
    {
      "cell_type": "code",
      "execution_count": null,
      "metadata": {
        "id": "ACwJ3353fU9x",
        "colab": {
          "base_uri": "https://localhost:8080/"
        },
        "outputId": "0fc00960-bd81-46fc-b2e7-0155080a4019"
      },
      "outputs": [
        {
          "output_type": "execute_result",
          "data": {
            "text/plain": [
              "(3680, 2048)"
            ]
          },
          "metadata": {},
          "execution_count": 61
        }
      ],
      "source": [
        "train_features_flat.shape"
      ]
    },
    {
      "cell_type": "markdown",
      "metadata": {
        "id": "fZX5nwRNxelT"
      },
      "source": [
        "## **(A) k-NN Classifier with k = 1**\n",
        "\n",
        "---\n",
        "\n",
        "\n",
        "\n"
      ]
    },
    {
      "cell_type": "code",
      "execution_count": null,
      "metadata": {
        "id": "keqW1lASfu5_"
      },
      "outputs": [],
      "source": [
        "knn_classifier = KNeighborsClassifier(n_neighbors=1)\n",
        "knn_classifier.fit(train_features_flat, train_labels)\n",
        "\n",
        "predictions = knn_classifier.predict(test_features_flat)\n",
        "accuracy = accuracy_score(test_labels, predictions)"
      ]
    },
    {
      "cell_type": "code",
      "execution_count": null,
      "metadata": {
        "id": "qx4Dp1VrgE5X",
        "colab": {
          "base_uri": "https://localhost:8080/"
        },
        "outputId": "6c65f278-bab5-41c3-ad0d-e504ccba03f3"
      },
      "outputs": [
        {
          "output_type": "execute_result",
          "data": {
            "text/plain": [
              "0.8765331152902698"
            ]
          },
          "metadata": {},
          "execution_count": 63
        }
      ],
      "source": [
        "accuracy"
      ]
    },
    {
      "cell_type": "markdown",
      "source": [
        "## **(B) Training the last FC layer keeping Feature Extractor frozen**\n",
        "\n",
        "---\n",
        "\n"
      ],
      "metadata": {
        "id": "3_Z22qog-d58"
      }
    },
    {
      "cell_type": "code",
      "source": [
        "device = torch.device(\"cuda:0\" if torch.cuda.is_available() else \"cpu\")\n",
        "print(device)"
      ],
      "metadata": {
        "id": "n4_QKhC1is64",
        "colab": {
          "base_uri": "https://localhost:8080/"
        },
        "outputId": "0a5e1d3f-1f54-407b-d15b-d3249d01d0af"
      },
      "execution_count": null,
      "outputs": [
        {
          "output_type": "stream",
          "name": "stdout",
          "text": [
            "cuda:0\n"
          ]
        }
      ]
    },
    {
      "cell_type": "code",
      "execution_count": null,
      "metadata": {
        "id": "27ADvqwCQjVE",
        "colab": {
          "base_uri": "https://localhost:8080/"
        },
        "outputId": "cc2991ae-6957-485b-89d5-dbc8d8a3d146"
      },
      "outputs": [
        {
          "output_type": "stream",
          "name": "stderr",
          "text": [
            "/usr/local/lib/python3.10/dist-packages/torchvision/models/_utils.py:223: UserWarning: Arguments other than a weight enum or `None` for 'weights' are deprecated since 0.13 and may be removed in the future. The current behavior is equivalent to passing `weights=ResNet50_Weights.IMAGENET1K_V1`. You can also use `weights=ResNet50_Weights.DEFAULT` to get the most up-to-date weights.\n",
            "  warnings.warn(msg)\n"
          ]
        }
      ],
      "source": [
        "model = resnet50(weights=True)\n",
        "\n",
        "for param in model.parameters():\n",
        "  param.requires_grad = False"
      ]
    },
    {
      "cell_type": "code",
      "execution_count": null,
      "metadata": {
        "id": "3ebqqWOwVbmK"
      },
      "outputs": [],
      "source": [
        "model.fc = torch.nn.Linear(2048, 37)      # Replace the last FC layer\n",
        "torch.nn.init.xavier_uniform_(model.fc.weight)\n",
        "\n",
        "model = model.to(device)"
      ]
    },
    {
      "cell_type": "code",
      "source": [
        "# Train function\n",
        "def fit(model, train_dataloader):\n",
        "    model.train()\n",
        "    train_running_loss = 0.0\n",
        "    train_running_correct = 0\n",
        "\n",
        "    for (input, labels) in train_dataloader:\n",
        "      # print(input.shape, labels.shape)\n",
        "      data, target = input.to(device), labels.to(device)\n",
        "      optimizer.zero_grad()\n",
        "      output = model(data)\n",
        "      loss = criterion(output, target)\n",
        "      train_running_loss += loss.item()\n",
        "      _, preds = torch.max(output.data, dim = 1)\n",
        "      train_running_correct += (preds == target).sum().item()\n",
        "      loss.backward()\n",
        "      optimizer.step()\n",
        "\n",
        "    train_loss = train_running_loss/len(train_dataloader.dataset)\n",
        "    train_accuracy = 100. * train_running_correct/len(train_dataloader.dataset)\n",
        "    print(f'Train Loss: {train_loss:.4f}, Train Acc: {train_accuracy:.2f}')\n",
        "\n",
        "    return train_loss, train_accuracy"
      ],
      "metadata": {
        "id": "REpraKlAi1uo"
      },
      "execution_count": null,
      "outputs": []
    },
    {
      "cell_type": "code",
      "source": [
        "# Evaluation Function\n",
        "def validate(model, test_dataloader):\n",
        "    model.eval()\n",
        "    val_running_loss = 0.0\n",
        "    val_running_correct = 0\n",
        "    with torch.no_grad():\n",
        "      for (input, labels) in test_dataloader:\n",
        "          data, target = input.to(device), labels.to(device)\n",
        "          output = model(data)\n",
        "          loss = criterion(output, target)\n",
        "          val_running_loss += loss.item()\n",
        "          _, preds = torch.max(output.data, dim = 1)\n",
        "          val_running_correct += (preds == target).sum().item()\n",
        "\n",
        "    val_loss = val_running_loss/len(test_dataloader.dataset)\n",
        "    val_accuracy = 100. * val_running_correct/len(test_dataloader.dataset)\n",
        "    print(f'Validation Loss: {val_loss:.4f}, Validation Acc: {val_accuracy:.2f}')\n",
        "\n",
        "    return val_loss, val_accuracy"
      ],
      "metadata": {
        "id": "L48Jeo7zCDFB"
      },
      "execution_count": null,
      "outputs": []
    },
    {
      "cell_type": "code",
      "source": [
        "# Loss function\n",
        "criterion = torch.nn.CrossEntropyLoss()\n",
        "# Optimizer\n",
        "optimizer = torch.optim.SGD(model.parameters(), lr = 0.001, momentum=0.9, weight_decay=1e-4)"
      ],
      "metadata": {
        "id": "5zYaFPwh7tvA"
      },
      "execution_count": null,
      "outputs": []
    },
    {
      "cell_type": "code",
      "source": [
        "num_epochs = 10"
      ],
      "metadata": {
        "id": "yWFTHSrw0IQo"
      },
      "execution_count": null,
      "outputs": []
    },
    {
      "cell_type": "code",
      "source": [
        "train_loss , train_accuracy = [], []\n",
        "val_loss , val_accuracy = [], []\n",
        "start = time.time()\n",
        "\n",
        "# Run training and testing\n",
        "for epoch in range(num_epochs):\n",
        "    print(f'Epoch {epoch + 1}')\n",
        "    train_epoch_loss, train_epoch_accuracy = fit(model, train_dataloader)\n",
        "    val_epoch_loss, val_epoch_accuracy = validate(model, test_dataloader)\n",
        "    train_loss.append(train_epoch_loss)\n",
        "    train_accuracy.append(train_epoch_accuracy)\n",
        "    val_loss.append(val_epoch_loss)\n",
        "    val_accuracy.append(val_epoch_accuracy)\n",
        "\n",
        "end = time.time()\n",
        "print((end-start)/60, 'minutes')"
      ],
      "metadata": {
        "id": "zlQosQ8YjWYo",
        "colab": {
          "base_uri": "https://localhost:8080/"
        },
        "outputId": "a142bb5c-d36b-4a2b-fae1-2ae9e0643a9e"
      },
      "execution_count": null,
      "outputs": [
        {
          "output_type": "stream",
          "name": "stdout",
          "text": [
            "Epoch 1\n",
            "Train Loss: 0.0518, Train Acc: 16.63\n",
            "Validation Loss: 0.0416, Validation Acc: 45.60\n",
            "Epoch 2\n",
            "Train Loss: 0.0342, Train Acc: 62.61\n",
            "Validation Loss: 0.0279, Validation Acc: 74.08\n",
            "Epoch 3\n",
            "Train Loss: 0.0238, Train Acc: 78.51\n",
            "Validation Loss: 0.0203, Validation Acc: 81.60\n",
            "Epoch 4\n",
            "Train Loss: 0.0178, Train Acc: 84.59\n",
            "Validation Loss: 0.0162, Validation Acc: 84.38\n",
            "Epoch 5\n",
            "Train Loss: 0.0145, Train Acc: 87.72\n",
            "Validation Loss: 0.0135, Validation Acc: 85.94\n",
            "Epoch 6\n",
            "Train Loss: 0.0122, Train Acc: 88.40\n",
            "Validation Loss: 0.0120, Validation Acc: 87.19\n",
            "Epoch 7\n",
            "Train Loss: 0.0108, Train Acc: 89.70\n",
            "Validation Loss: 0.0108, Validation Acc: 87.65\n",
            "Epoch 8\n",
            "Train Loss: 0.0096, Train Acc: 90.73\n",
            "Validation Loss: 0.0099, Validation Acc: 88.83\n",
            "Epoch 9\n",
            "Train Loss: 0.0088, Train Acc: 91.20\n",
            "Validation Loss: 0.0092, Validation Acc: 88.44\n",
            "Epoch 10\n",
            "Train Loss: 0.0081, Train Acc: 91.74\n",
            "Validation Loss: 0.0087, Validation Acc: 88.93\n",
            "10.33870423634847 minutes\n"
          ]
        }
      ]
    },
    {
      "cell_type": "code",
      "source": [
        "resnet_frozen_classifier = copy.deepcopy(model)"
      ],
      "metadata": {
        "id": "4b9UNBQ90nIA"
      },
      "execution_count": null,
      "outputs": []
    },
    {
      "cell_type": "code",
      "source": [
        "def draw_acc_loss_graphs(train_loss, val_loss, train_accuracy, val_accuracy, num_epochs):\n",
        "  epochs = np.array([i for i in range(1,num_epochs + 1)]).reshape(num_epochs,1)\n",
        "\n",
        "  plt.figure(figsize=(12, 5))\n",
        "\n",
        "  plt.subplot(1,2,1)\n",
        "  plt.plot(epochs, train_loss, label='Training Loss')\n",
        "  plt.plot(epochs, val_loss, label='Validation Loss')\n",
        "  plt.xticks(np.arange(1, num_epoches + 1, step=1))\n",
        "  plt.xlabel('Epoch Number')\n",
        "  plt.ylabel('Loss')\n",
        "  plt.title('Training and Validation Loss')\n",
        "  plt.legend()\n",
        "\n",
        "  plt.subplot(1,2,2)\n",
        "  plt.plot(epochs, train_accuracy, label='Training Accuracy')\n",
        "  plt.plot(epochs, val_accuracy, label='Validation Accuracy')\n",
        "  plt.xticks(np.arange(1, num_epoches + 1, step=1))\n",
        "  plt.xlabel('Epoch Number')\n",
        "  plt.ylabel('Accuracy')\n",
        "  plt.title('Training and Validation Accuracy')\n",
        "  plt.legend()\n",
        "  plt.ylim(0, 100)\n",
        "\n",
        "  plt.show()"
      ],
      "metadata": {
        "id": "eoLqCkuYIERS"
      },
      "execution_count": null,
      "outputs": []
    },
    {
      "cell_type": "code",
      "source": [
        "draw_acc_loss_graphs(train_loss, val_loss, train_accuracy, val_accuracy, num_epochs)"
      ],
      "metadata": {
        "colab": {
          "base_uri": "https://localhost:8080/",
          "height": 175
        },
        "id": "uZFCscBEzULH",
        "outputId": "a6ddadb0-575a-4d82-b7c4-68131f783871"
      },
      "execution_count": null,
      "outputs": [
        {
          "output_type": "error",
          "ename": "NameError",
          "evalue": "ignored",
          "traceback": [
            "\u001b[0;31m---------------------------------------------------------------------------\u001b[0m",
            "\u001b[0;31mNameError\u001b[0m                                 Traceback (most recent call last)",
            "\u001b[0;32m<ipython-input-2-40d8e729fe13>\u001b[0m in \u001b[0;36m<cell line: 1>\u001b[0;34m()\u001b[0m\n\u001b[0;32m----> 1\u001b[0;31m \u001b[0mdraw_acc_loss_graphs\u001b[0m\u001b[0;34m(\u001b[0m\u001b[0mtrain_loss\u001b[0m\u001b[0;34m,\u001b[0m \u001b[0mval_loss\u001b[0m\u001b[0;34m,\u001b[0m \u001b[0mtrain_accuracy\u001b[0m\u001b[0;34m,\u001b[0m \u001b[0mval_accuracy\u001b[0m\u001b[0;34m,\u001b[0m \u001b[0mnum_epochs\u001b[0m\u001b[0;34m)\u001b[0m\u001b[0;34m\u001b[0m\u001b[0;34m\u001b[0m\u001b[0m\n\u001b[0m",
            "\u001b[0;31mNameError\u001b[0m: name 'train_loss' is not defined"
          ]
        }
      ]
    },
    {
      "cell_type": "code",
      "source": [
        "last_layer_params = model.fc.parameters()\n",
        "for param in last_layer_params:\n",
        "  print(param[1])"
      ],
      "metadata": {
        "colab": {
          "base_uri": "https://localhost:8080/"
        },
        "id": "z3bRwjZasdBd",
        "outputId": "285220c9-26fb-4fdc-eca6-50d8a01cb3c3"
      },
      "execution_count": null,
      "outputs": [
        {
          "output_type": "stream",
          "name": "stdout",
          "text": [
            "tensor([-0.0376,  0.0123,  0.0221,  ...,  0.0325, -0.0042,  0.0153],\n",
            "       device='cuda:0', grad_fn=<SelectBackward0>)\n",
            "tensor(0.0121, device='cuda:0', grad_fn=<SelectBackward0>)\n"
          ]
        }
      ]
    },
    {
      "cell_type": "markdown",
      "source": [
        "## **(C) Fine-Tuning the whole model**\n",
        "\n",
        "---\n",
        "\n"
      ],
      "metadata": {
        "id": "3U3a9UaxyTeQ"
      }
    },
    {
      "cell_type": "code",
      "source": [
        "for param in model.parameters():\n",
        "  param.requires_grad = True"
      ],
      "metadata": {
        "id": "0C9S7Oy_tRR0"
      },
      "execution_count": null,
      "outputs": []
    },
    {
      "cell_type": "code",
      "source": [
        "train_loss_ft , train_accuracy_ft = [], []\n",
        "val_loss_ft , val_accuracy_ft = [], []\n",
        "start = time.time()\n",
        "\n",
        "# Run training and testing\n",
        "for epoch in range(num_epochs):\n",
        "    print(f'Epoch {epoch + 1}')\n",
        "    train_epoch_loss, train_epoch_accuracy = fit(model, train_dataloader)\n",
        "    val_epoch_loss, val_epoch_accuracy = validate(model, test_dataloader)\n",
        "    train_loss_ft.append(train_epoch_loss)\n",
        "    train_accuracy_ft.append(train_epoch_accuracy)\n",
        "    val_loss_ft.append(val_epoch_loss)\n",
        "    val_accuracy_ft.append(val_epoch_accuracy)\n",
        "\n",
        "end = time.time()\n",
        "print((end-start)/60, 'minutes')"
      ],
      "metadata": {
        "colab": {
          "base_uri": "https://localhost:8080/"
        },
        "id": "qVk-U4aEwAym",
        "outputId": "f91a40ff-b562-4cd9-994a-f277b7d5f4db"
      },
      "execution_count": null,
      "outputs": [
        {
          "output_type": "stream",
          "name": "stdout",
          "text": [
            "Epoch 1\n",
            "Train Loss: 0.0061, Train Acc: 93.21\n",
            "Validation Loss: 0.0053, Validation Acc: 91.58\n",
            "Epoch 2\n",
            "Train Loss: 0.0032, Train Acc: 96.71\n",
            "Validation Loss: 0.0047, Validation Acc: 92.12\n",
            "Epoch 3\n",
            "Train Loss: 0.0020, Train Acc: 98.42\n",
            "Validation Loss: 0.0042, Validation Acc: 92.94\n",
            "Epoch 4\n",
            "Train Loss: 0.0014, Train Acc: 99.38\n",
            "Validation Loss: 0.0041, Validation Acc: 92.86\n",
            "Epoch 5\n",
            "Train Loss: 0.0010, Train Acc: 99.70\n",
            "Validation Loss: 0.0040, Validation Acc: 92.64\n",
            "Epoch 6\n",
            "Train Loss: 0.0008, Train Acc: 99.73\n",
            "Validation Loss: 0.0039, Validation Acc: 92.86\n",
            "Epoch 7\n",
            "Train Loss: 0.0006, Train Acc: 99.92\n",
            "Validation Loss: 0.0039, Validation Acc: 92.78\n",
            "Epoch 8\n",
            "Train Loss: 0.0006, Train Acc: 100.00\n",
            "Validation Loss: 0.0039, Validation Acc: 92.91\n",
            "Epoch 9\n",
            "Train Loss: 0.0004, Train Acc: 100.00\n",
            "Validation Loss: 0.0039, Validation Acc: 93.08\n",
            "Epoch 10\n",
            "Train Loss: 0.0004, Train Acc: 99.97\n",
            "Validation Loss: 0.0038, Validation Acc: 92.86\n",
            "11.17098061243693 minutes\n"
          ]
        }
      ]
    },
    {
      "cell_type": "code",
      "source": [
        "draw_acc_loss_graphs(train_loss_ft, val_loss_ft, train_accuracy_ft, val_accuracy_ft, num_epochs)"
      ],
      "metadata": {
        "colab": {
          "base_uri": "https://localhost:8080/",
          "height": 487
        },
        "id": "QloacCsQy5DP",
        "outputId": "7be0c310-565e-426d-9238-79a04a601686"
      },
      "execution_count": null,
      "outputs": [
        {
          "output_type": "display_data",
          "data": {
            "text/plain": [
              "<Figure size 1200x500 with 2 Axes>"
            ],
            "image/png": "[encoded data removed]"
          },
          "metadata": {}
        }
      ]
    }
  ],
  "metadata": {
    "accelerator": "GPU",
    "colab": {
      "provenance": [],
      "gpuType": "T4"
    },
    "kernelspec": {
      "display_name": "Python 3",
      "name": "python3"
    },
    "language_info": {
      "name": "python"
    }
  },
  "nbformat": 4,
  "nbformat_minor": 0
}